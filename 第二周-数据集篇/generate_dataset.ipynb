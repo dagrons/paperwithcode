{
 "cells": [
  {
   "cell_type": "markdown",
   "id": "2a8852b7",
   "metadata": {},
   "source": [
    "# 训练集篇\n",
    "1. 一个机器学习任务包括：数据的收集 -> 数据集的处理 -> 模型构建 -> 训练\n",
    "2. 在torch中，Dataset形成从idx到input tensor的映射，DataLoader(Dataset)可以自动化完成batch data的读取和epoch之后的shuffle等\n",
    "3. 训练集收集后应该先用bash/shell/awk进行相应简单的处理，然后再构建Dataset模块和generate_dataset函数"
   ]
  },
  {
   "cell_type": "code",
   "execution_count": 2,
   "id": "a349c6f6",
   "metadata": {},
   "outputs": [],
   "source": [
    "import torch\n",
    "from torch.utils.data import *\n",
    "from PIL import Image \n",
    "import os\n",
    "import numpy as np"
   ]
  },
  {
   "cell_type": "markdown",
   "id": "f68e8a7c",
   "metadata": {},
   "source": [
    "Dataset不区分train_data和test_data"
   ]
  },
  {
   "cell_type": "code",
   "execution_count": 3,
   "id": "c5b85fb6",
   "metadata": {},
   "outputs": [],
   "source": [
    "class MalwareData(Dataset):\n",
    "    def __init__(self, images, labels):\n",
    "        self.images = images # images: the path of the image path list\n",
    "        self.labels = labels # labels: the corresponding lable of the image \n",
    "    \n",
    "    def __len__(self):\n",
    "        return len(self.images)\n",
    "    \n",
    "    def __getitem__(self, idx):\n",
    "        img_path = self.images[idx]\n",
    "        label = self.labels[idx]\n",
    "        \n",
    "        img = Image.open(img_path)\n",
    "        img = img.resize((224, 224))\n",
    "        img_mat = np.asarray(img, dtype=np.float32)\n",
    "        img_mat = np.reshape(img_mat, (1, 224, 224)) # can be replaced with unsqueeze\n",
    "        img_mat = np.repeat(img_mat, 3, axis=0) # (3, 224, 224)\n",
    "        img_tensor = torch.from_numpy(img_mat)\n",
    "        \n",
    "        return img_tensor, label"
   ]
  },
  {
   "cell_type": "code",
   "execution_count": 4,
   "id": "97305dfc",
   "metadata": {},
   "outputs": [],
   "source": [
    "def generate_dataset(dataset_path):\n",
    "    # generate Dataset according to dataset_path(which should be preprocessed by bash/shell)\n",
    "    # path: the path of the dataset, divided by label as name of the folder\n",
    "    images = []\n",
    "    labels = []\n",
    "    \n",
    "    for label in os.listdir(dataset_path):\n",
    "        label_path = os.path.join(dataset_path, label)\n",
    "        for fname in os.listdir(label_path):\n",
    "            fpath = os.path.join(label_path, fname)\n",
    "            images.append(fpath)\n",
    "            labels.append(label)\n",
    "            \n",
    "    return MalwareData(images, labels)"
   ]
  },
  {
   "cell_type": "code",
   "execution_count": 5,
   "id": "e713ee67",
   "metadata": {},
   "outputs": [],
   "source": [
    "dataset = generate_dataset(\"/share/mal/malware/data/image_train\")"
   ]
  },
  {
   "cell_type": "code",
   "execution_count": 26,
   "id": "fbda1600",
   "metadata": {},
   "outputs": [],
   "source": [
    "dataloader = DataLoader(dataset, batch_size=64, shuffle=True)"
   ]
  },
  {
   "cell_type": "code",
   "execution_count": 27,
   "id": "0a314d85",
   "metadata": {},
   "outputs": [],
   "source": [
    "example = next(iter(dataloader))"
   ]
  },
  {
   "cell_type": "code",
   "execution_count": 31,
   "id": "7a481daa",
   "metadata": {},
   "outputs": [
    {
     "data": {
      "text/plain": [
       "torch.Size([64, 3, 224, 224])"
      ]
     },
     "execution_count": 31,
     "metadata": {},
     "output_type": "execute_result"
    }
   ],
   "source": [
    "x, y = example\n",
    "x.shape"
   ]
  },
  {
   "cell_type": "code",
   "execution_count": null,
   "id": "cce90459",
   "metadata": {},
   "outputs": [],
   "source": []
  }
 ],
 "metadata": {
  "kernelspec": {
   "display_name": "Python 3",
   "language": "python",
   "name": "python3"
  },
  "language_info": {
   "codemirror_mode": {
    "name": "ipython",
    "version": 3
   },
   "file_extension": ".py",
   "mimetype": "text/x-python",
   "name": "python",
   "nbconvert_exporter": "python",
   "pygments_lexer": "ipython3",
   "version": "3.6.9"
  }
 },
 "nbformat": 4,
 "nbformat_minor": 5
}
