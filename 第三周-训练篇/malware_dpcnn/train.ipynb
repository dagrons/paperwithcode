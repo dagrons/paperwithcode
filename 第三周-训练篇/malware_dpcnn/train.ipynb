{
 "cells": [
  {
   "cell_type": "markdown",
   "id": "293e9a2b",
   "metadata": {},
   "source": [
    "# 训练篇\n",
    "\n",
    "1. 选择nn.loss损失函数\n",
    "2. 选择torch.optim优化算法\n",
    "3. 设置超参数\n",
    "4. 设置tensorboard进行可视化"
   ]
  },
  {
   "cell_type": "code",
   "execution_count": 1,
   "id": "6876bb1f",
   "metadata": {},
   "outputs": [],
   "source": [
    "import torch \n",
    "import torch.nn as nn # 包含loss和各种blocks, layers\n",
    "from torch.utils.data import * # 包括Dataset和DataLoader\n",
    "from tensorboardX import SummaryWriter \n",
    "\n",
    "from resnet import * \n",
    "from generate_dataset import * "
   ]
  },
  {
   "cell_type": "markdown",
   "id": "ea1ed99c",
   "metadata": {},
   "source": [
    "1. settings: 训练集地址和验证集地址\n",
    "2. writer for tensorboard\n",
    "3. prepare dataloader\n",
    "4. load model\n",
    "5. loss func \n",
    "6. optim \n",
    "7. let's go "
   ]
  },
  {
   "cell_type": "code",
   "execution_count": 2,
   "id": "2722d02c",
   "metadata": {},
   "outputs": [],
   "source": [
    "def train(model_path):\n",
    "    # path for training and testing data\n",
    "    train_data_path = \"/share/mal/malware/data/image_train\"\n",
    "    test_data_path = \"/share/mal/malware/data/image_train\"\n",
    "    \n",
    "    # writer for debug\n",
    "    writer = SummaryWriter(comment=\"Resnet\")\n",
    "    \n",
    "    # prepare dataloader\n",
    "    train_set = generate_dataset(train_data_path)\n",
    "    test_set = generate_dataset(test_data_path)\n",
    "    train_loader = DataLoader(train_set, batch_size=64, shuffle=True)\n",
    "    test_loader = DataLoader(test_set, batch_size=64, shuffle=True)\n",
    "    \n",
    "    # load model\n",
    "    model = ResNet(num_block=[3, 4, 6, 3])\n",
    "    model.cuda()\n",
    "    model.train()\n",
    "    \n",
    "    # loss func\n",
    "    criterion = nn.CrossEntropyLoss()\n",
    "    \n",
    "    # optim\n",
    "    optim = torch.optim.Adam(model.parameters(), lr=1e-3)\n",
    "    \n",
    "    # let's go \n",
    "    EPOCH = 10\n",
    "    step = 0\n",
    "    best_acc = 0.0\n",
    "    \n",
    "    for ep in range(EPOCH):\n",
    "        # training\n",
    "        for idx, data in enumerate(train_loader):\n",
    "            x, y = data\n",
    "            y = torch.from_numpy(np.asarray(y, dtype=np.long))\n",
    "            y-=1 # 训练集标签从1-9，映射到0-8\n",
    "            x = x.cuda()\n",
    "            y = y.cuda()\n",
    "            \n",
    "            y_pred = model(x)\n",
    "            loss = criterion(y_pred, y)\n",
    "            loss.backward()\n",
    "            optim.step()\n",
    "            optim.zero_grad()\n",
    "            \n",
    "            if step % 10 == 0:\n",
    "                print (\"epoch {} step {}: loss={}\".format(ep, step, loss))\n",
    "            writer.add_scalar(\"Loss\", loss, step)\n",
    "            step += 1\n",
    "        \n",
    "        # testing \n",
    "        correct = 0\n",
    "        total = 0\n",
    "        model.eval()\n",
    "        for idx, data in enumerate(test_loader):\n",
    "            x, y = data\n",
    "            y = torch.from_numpy(np.asarray(y, dtype=np.long))\n",
    "            y-=1\n",
    "            x = x.cuda()\n",
    "            y = y.cuda()\n",
    "            \n",
    "            y_pred = model(x)\n",
    "            prediction = torch.argmax(y_pred, 1)\n",
    "            correct += (prediction == y).sum()\n",
    "            total += len(y)\n",
    "        \n",
    "        acc = correct/total\n",
    "        print (\"epoch {}: acc={}\".format(ep, acc))\n",
    "        writer.add_scalar(\"acc\", acc, ep)\n",
    "        if acc > best_acc:\n",
    "            torch.save(model, \"\".join(model_path.split('.')[:-1]) + \"_best.pth\")\n",
    "            best_acc = acc\n",
    "        \n",
    "    torch.save(model, model_path)\n",
    "    writer.close()"
   ]
  },
  {
   "cell_type": "code",
   "execution_count": 3,
   "id": "be2cb441",
   "metadata": {},
   "outputs": [
    {
     "data": {
      "text/plain": [
       "True"
      ]
     },
     "execution_count": 3,
     "metadata": {},
     "output_type": "execute_result"
    }
   ],
   "source": [
    "torch.cuda.is_available()"
   ]
  },
  {
   "cell_type": "code",
   "execution_count": null,
   "id": "46d80169",
   "metadata": {},
   "outputs": [
    {
     "name": "stdout",
     "output_type": "stream",
     "text": [
      "epoch 0 step 0: loss=2.1984505653381348\n",
      "epoch 0 step 10: loss=1.789381742477417\n",
      "epoch 0 step 20: loss=1.4160553216934204\n",
      "epoch 0 step 30: loss=0.8571893572807312\n",
      "epoch 0 step 40: loss=1.2058979272842407\n",
      "epoch 0 step 50: loss=0.6912479400634766\n",
      "epoch 0 step 60: loss=0.9555216431617737\n",
      "epoch 0 step 70: loss=0.818180501461029\n",
      "epoch 0 step 80: loss=0.6732709407806396\n",
      "epoch 0 step 90: loss=0.6725689768791199\n",
      "epoch 0 step 100: loss=0.4437403082847595\n",
      "epoch 0 step 110: loss=0.5286104679107666\n",
      "epoch 0 step 120: loss=0.5549123883247375\n",
      "epoch 0 step 130: loss=0.6708193421363831\n",
      "epoch 0 step 140: loss=0.3919709026813507\n",
      "epoch 0 step 150: loss=0.39155325293540955\n",
      "epoch 0 step 160: loss=0.5423536896705627\n"
     ]
    }
   ],
   "source": [
    "model_path = \"/root/paperwithcode/第三周-训练篇/malware_dpcnn/A.pth\" \n",
    "train(model_path)"
   ]
  },
  {
   "cell_type": "code",
   "execution_count": null,
   "id": "443804c7",
   "metadata": {},
   "outputs": [],
   "source": []
  }
 ],
 "metadata": {
  "kernelspec": {
   "display_name": "Python 3",
   "language": "python",
   "name": "python3"
  },
  "language_info": {
   "codemirror_mode": {
    "name": "ipython",
    "version": 3
   },
   "file_extension": ".py",
   "mimetype": "text/x-python",
   "name": "python",
   "nbconvert_exporter": "python",
   "pygments_lexer": "ipython3",
   "version": "3.6.9"
  }
 },
 "nbformat": 4,
 "nbformat_minor": 5
}
