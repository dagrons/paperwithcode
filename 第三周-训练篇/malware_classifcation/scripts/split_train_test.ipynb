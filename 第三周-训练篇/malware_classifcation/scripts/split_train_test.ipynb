{
 "cells": [
  {
   "cell_type": "markdown",
   "id": "a2f8b82a",
   "metadata": {},
   "source": [
    "# 本文件用于划分数据集\n",
    "原文件结构: [1, 2, 3, 4....]\n",
    "\n",
    "划分后:\n",
    "\n",
    "train：[1, 2, 3, 4...] 数据量为原数据量4/5\n",
    "\n",
    "test：[1, 2, 3, 4...] 数据量为原数据量1/5"
   ]
  },
  {
   "cell_type": "code",
   "execution_count": 1,
   "id": "13d5d7b4",
   "metadata": {},
   "outputs": [],
   "source": [
    "import os\n",
    "import shutil"
   ]
  },
  {
   "cell_type": "code",
   "execution_count": 2,
   "id": "b5754c1c",
   "metadata": {},
   "outputs": [],
   "source": [
    "origin_data_path = \"/share/mal/tmp/train/\"\n",
    "\n",
    "train_data_path = \"/share/mal/tmp/mal/train\"\n",
    "test_data_path = \"/share/mal/tmp/mal/test\""
   ]
  },
  {
   "cell_type": "code",
   "execution_count": 3,
   "id": "a1f61eb7",
   "metadata": {},
   "outputs": [],
   "source": [
    "def split_train_test(origin_data_path, train_data_path, test_data_path):\n",
    "    for label in os.listdir(origin_data_path):\n",
    "        label_path = os.path.join(origin_data_path, label) # 当前标签对应的数据文件夹\n",
    "        label_count = len([fname for fname in os.listdir(label_path)]) # 当前标签对应的数据量\n",
    "        \n",
    "        train_count = label_count * 4 // 5 # 训练集占4/5\n",
    "        test_count = label_count - train_count  # 测试集占1/5\n",
    "        \n",
    "        train_label_path = os.path.join(train_data_path, label) # 对应标签的训练集位置\n",
    "        test_label_path = os.path.join(test_data_path, label) # 对应标签的测试集位置\n",
    "        \n",
    "        train_list = [] # 用于判重，已经在训练集中的文件就不移动到验证集下了\n",
    "        \n",
    "        # 建立对应标签的文件夹\n",
    "        if not os.path.exists(train_label_path):\n",
    "            os.mkdir(train_label_path)\n",
    "        if not os.path.exists(test_label_path):\n",
    "            os.mkdir(test_label_path)\n",
    "            \n",
    "        # 移动训练集文件 / 4/5\n",
    "        for idx, fname in enumerate(os.listdir(label_path)):\n",
    "            src_path = os.path.join(label_path, fname)\n",
    "            dst_path = os.path.join(train_label_path, fname)\n",
    "            shutil.copyfile(src_path, dst_path)\n",
    "            train_list.append(src_path)\n",
    "            if idx == train_count: # 移动3/5\n",
    "                break\n",
    "        \n",
    "        # 移动测试集文件 / 剩下的1/5\n",
    "        for idx, fname in enumerate(os.listdir(label_path)):\n",
    "            src_path = os.path.join(label_path, fname)\n",
    "            dst_path = os.path.join(test_label_path, fname)\n",
    "            if src_path not in train_list:\n",
    "                shutil.copyfile(src_path, dst_path)"
   ]
  },
  {
   "cell_type": "code",
   "execution_count": 4,
   "id": "dda73f6b",
   "metadata": {},
   "outputs": [],
   "source": [
    "split_train_test(origin_data_path, train_data_path, test_data_path)"
   ]
  },
  {
   "cell_type": "code",
   "execution_count": null,
   "id": "2d6a0432",
   "metadata": {},
   "outputs": [],
   "source": []
  }
 ],
 "metadata": {
  "kernelspec": {
   "display_name": "Python 3",
   "language": "python",
   "name": "python3"
  },
  "language_info": {
   "codemirror_mode": {
    "name": "ipython",
    "version": 3
   },
   "file_extension": ".py",
   "mimetype": "text/x-python",
   "name": "python",
   "nbconvert_exporter": "python",
   "pygments_lexer": "ipython3",
   "version": "3.6.9"
  }
 },
 "nbformat": 4,
 "nbformat_minor": 5
}
