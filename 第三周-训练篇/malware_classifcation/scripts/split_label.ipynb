{
 "cells": [
  {
   "cell_type": "markdown",
   "id": "8ae387b2-722f-41e4-a8e1-20ce8aa9f41d",
   "metadata": {},
   "source": [
    "## 根据trainLabels.csv文件划分训练集文件\n",
    "pandas使用方法和SQL极度类似，都是表结构，查询语言也类似:\n",
    "`df[df.Class==xxx] <=> select * from table where Class=xxx`\n",
    "\n",
    "更多用法见：https://pandas.pydata.org/Pandas_Cheat_Sheet.pdf"
   ]
  },
  {
   "cell_type": "code",
   "execution_count": 32,
   "id": "26d79262-dcae-4812-b34c-0e6d74898880",
   "metadata": {},
   "outputs": [],
   "source": [
    "import pandas as pd\n",
    "import os\n",
    "import shutil"
   ]
  },
  {
   "cell_type": "code",
   "execution_count": 40,
   "id": "92ec4f5b-186d-487f-93c4-92785681436e",
   "metadata": {},
   "outputs": [],
   "source": [
    "csv_path = \"/share/mal/kaggle/trainLabels.csv\"\n",
    "train_data_path = \"/share/mal/kaggle/train\"\n",
    "splited_train_data_path = \"/share/mal/tmp/train\""
   ]
  },
  {
   "cell_type": "code",
   "execution_count": 51,
   "id": "adf6ab2d-d6c0-45b5-8bce-abe7858f9ff9",
   "metadata": {
    "tags": []
   },
   "outputs": [],
   "source": [
    "def split(train_data_path, splited_train_data_path, csv_path):\n",
    "    \n",
    "    df = pd.read_csv(csv_path)\n",
    "    labels = set(df['Class']) # 获取所有label\n",
    "    \n",
    "    for label in labels:\n",
    "        label_dir = os.path.join(splited_train_data_path, str(label))\n",
    "        if not os.path.exists(label_dir):\n",
    "            os.mkdir(label_dir)\n",
    "        label_filenames = df[df.Class==label]['Id']\n",
    "        for fname in label_filenames:\n",
    "            fpath = os.path.join(train_data_path, fname+'.bytes')\n",
    "            label_path = os.path.join(label_dir, fname+'.bytes')\n",
    "            shutil.copyfile(fpath, label_path)"
   ]
  },
  {
   "cell_type": "code",
   "execution_count": 52,
   "id": "860a559f-eecd-4e72-97b2-9d9c6fdfa325",
   "metadata": {},
   "outputs": [],
   "source": [
    "split(train_data_path, splited_train_data_path, csv_path)"
   ]
  },
  {
   "cell_type": "code",
   "execution_count": null,
   "id": "01a6816c-5806-4753-92c1-292ffe3f3b70",
   "metadata": {},
   "outputs": [],
   "source": []
  }
 ],
 "metadata": {
  "kernelspec": {
   "display_name": "Python 3",
   "language": "python",
   "name": "python3"
  },
  "language_info": {
   "codemirror_mode": {
    "name": "ipython",
    "version": 3
   },
   "file_extension": ".py",
   "mimetype": "text/x-python",
   "name": "python",
   "nbconvert_exporter": "python",
   "pygments_lexer": "ipython3",
   "version": "3.6.9"
  }
 },
 "nbformat": 4,
 "nbformat_minor": 5
}
