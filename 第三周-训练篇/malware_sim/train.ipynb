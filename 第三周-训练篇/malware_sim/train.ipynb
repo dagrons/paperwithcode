{
 "cells": [
  {
   "cell_type": "code",
   "execution_count": 3,
   "id": "8092b384-6435-4c84-bf85-22a06ae40b7e",
   "metadata": {},
   "outputs": [
    {
     "name": "stderr",
     "output_type": "stream",
     "text": [
      "/usr/local/lib/python3.6/dist-packages/gensim/similarities/__init__.py:15: UserWarning: The gensim.similarities.levenshtein submodule is disabled, because the optional Levenshtein package <https://pypi.org/project/python-Levenshtein/> is unavailable. Install Levenhstein (e.g. `pip install python-Levenshtein`) to suppress this warning.\n",
      "  warnings.warn(msg)\n"
     ]
    }
   ],
   "source": [
    "from gensim.models.doc2vec import Doc2Vec, TaggedDocument\n",
    "import os\n",
    "import tempfile\n",
    "from scripts.transform import get_opcode_from"
   ]
  },
  {
   "cell_type": "code",
   "execution_count": 4,
   "id": "ba0cd1d1-9e90-40ba-a5e9-9cd4e224f379",
   "metadata": {},
   "outputs": [],
   "source": [
    "train_data_path = \"/share/mal/APT\"\n",
    "model_path = os.path.join('.', 'trained_models')"
   ]
  },
  {
   "cell_type": "markdown",
   "id": "4abc593e-8fd1-4c45-b9c8-efef539af222",
   "metadata": {},
   "source": [
    "## 从bytes文件获取opcode\n",
    "前提是bytes文件中只包含.text段"
   ]
  },
  {
   "cell_type": "code",
   "execution_count": 4,
   "id": "a29385c3-1488-4b55-87a8-c2d2f352c76e",
   "metadata": {},
   "outputs": [],
   "source": [
    "def train(train_data_path, model_path, workers=4, vector_size=256):\n",
    "    opcode_sequence_list = []\n",
    "    for root, _, files in os.walk(train_data_path):\n",
    "        for fname in files:\n",
    "            if fname.split('.')[-1] == \"asm\":\n",
    "                asm_path = os.path.join(root, fname)\n",
    "                opcode_sequence = []\n",
    "                with open(asm_path) as f:\n",
    "                    for line in f:\n",
    "                        opcode_sequence.append(line)\n",
    "                opcode_sequence_list.append(opcode_sequence)\n",
    "\n",
    "    documents = [TaggedDocument(doc, [i]) for i, doc in enumerate(opcode_sequence_list)]\n",
    "    model = Doc2Vec(documents, workers=workers, vector_size=vector_size)\n",
    "    mode.save(os.path.join(model_path, 'malware_sim%doc2vec.pth'))"
   ]
  },
  {
   "cell_type": "code",
   "execution_count": 5,
   "id": "dbde7680-593c-48ac-a050-a8e57142b92a",
   "metadata": {},
   "outputs": [
    {
     "name": "stdout",
     "output_type": "stream",
     "text": [
      "> \u001b[0;32m<ipython-input-4-66af69d607d5>\u001b[0m(15)\u001b[0;36mtrain\u001b[0;34m()\u001b[0m\n",
      "\u001b[0;32m     13 \u001b[0;31m\u001b[0;34m\u001b[0m\u001b[0m\n",
      "\u001b[0m\u001b[0;32m     14 \u001b[0;31m    \u001b[0;32mimport\u001b[0m \u001b[0mpdb\u001b[0m\u001b[0;34m;\u001b[0m \u001b[0mpdb\u001b[0m\u001b[0;34m.\u001b[0m\u001b[0mset_trace\u001b[0m\u001b[0;34m(\u001b[0m\u001b[0;34m)\u001b[0m\u001b[0;34m\u001b[0m\u001b[0;34m\u001b[0m\u001b[0m\n",
      "\u001b[0m\u001b[0;32m---> 15 \u001b[0;31m    \u001b[0mdocuments\u001b[0m \u001b[0;34m=\u001b[0m \u001b[0;34m[\u001b[0m\u001b[0mTaggedDocument\u001b[0m\u001b[0;34m(\u001b[0m\u001b[0mdoc\u001b[0m\u001b[0;34m,\u001b[0m \u001b[0;34m[\u001b[0m\u001b[0mi\u001b[0m\u001b[0;34m]\u001b[0m\u001b[0;34m)\u001b[0m \u001b[0;32mfor\u001b[0m \u001b[0mi\u001b[0m\u001b[0;34m,\u001b[0m \u001b[0mdoc\u001b[0m \u001b[0;32min\u001b[0m \u001b[0menumerate\u001b[0m\u001b[0;34m(\u001b[0m\u001b[0mopcode_sequence_list\u001b[0m\u001b[0;34m)\u001b[0m\u001b[0;34m]\u001b[0m\u001b[0;34m\u001b[0m\u001b[0;34m\u001b[0m\u001b[0m\n",
      "\u001b[0m\u001b[0;32m     16 \u001b[0;31m    \u001b[0mmodel\u001b[0m \u001b[0;34m=\u001b[0m \u001b[0mDoc2Vec\u001b[0m\u001b[0;34m(\u001b[0m\u001b[0mdocuments\u001b[0m\u001b[0;34m,\u001b[0m \u001b[0mworkers\u001b[0m\u001b[0;34m=\u001b[0m\u001b[0mworkers\u001b[0m\u001b[0;34m,\u001b[0m \u001b[0mvector_size\u001b[0m\u001b[0;34m=\u001b[0m\u001b[0mvector_size\u001b[0m\u001b[0;34m)\u001b[0m\u001b[0;34m\u001b[0m\u001b[0;34m\u001b[0m\u001b[0m\n",
      "\u001b[0m\u001b[0;32m     17 \u001b[0;31m    \u001b[0mmodel\u001b[0m\u001b[0;34m.\u001b[0m\u001b[0msave\u001b[0m\u001b[0;34m(\u001b[0m\u001b[0mos\u001b[0m\u001b[0;34m.\u001b[0m\u001b[0mpath\u001b[0m\u001b[0;34m.\u001b[0m\u001b[0mjoin\u001b[0m\u001b[0;34m(\u001b[0m\u001b[0mmodel_path\u001b[0m\u001b[0;34m,\u001b[0m \u001b[0;34m'malware_sim%doc2vec.pth'\u001b[0m\u001b[0;34m)\u001b[0m\u001b[0;34m)\u001b[0m\u001b[0;34m\u001b[0m\u001b[0;34m\u001b[0m\u001b[0m\n",
      "\u001b[0m\n"
     ]
    },
    {
     "name": "stdin",
     "output_type": "stream",
     "text": [
      "ipdb>  c\n"
     ]
    }
   ],
   "source": [
    "train(train_data_path, model_path, workers=16)"
   ]
  },
  {
   "cell_type": "code",
   "execution_count": 5,
   "id": "11ed8186-f8d1-481a-84e1-166328a76b9e",
   "metadata": {},
   "outputs": [],
   "source": [
    "model = Doc2Vec.load(os.path.join(model_path, 'malware_sim%doc2vec.pth'))"
   ]
  },
  {
   "cell_type": "code",
   "execution_count": 9,
   "id": "a170b34d-b698-452d-a79b-363d6caff421",
   "metadata": {},
   "outputs": [
    {
     "data": {
      "text/plain": [
       "array([ 1.1618806e-03, -5.0913007e-04,  7.8815012e-04, -2.1189009e-04,\n",
       "       -1.2752047e-03, -9.6853694e-04,  1.2679957e-05, -1.5721603e-03,\n",
       "       -7.7243405e-04, -1.2734681e-03, -1.4446978e-04,  1.2321649e-03,\n",
       "        8.3180680e-04, -1.7926653e-03,  1.6037675e-03,  1.7859805e-03,\n",
       "       -1.9084542e-03, -1.3308511e-03, -1.6233802e-04,  9.7484398e-04,\n",
       "        1.5650243e-03, -1.8310093e-04, -9.1915671e-04, -2.8053985e-04,\n",
       "       -1.6156223e-04, -1.8731561e-03, -1.7027903e-03,  1.0977357e-03,\n",
       "       -8.0347853e-04,  1.3571384e-03, -7.2558271e-04, -9.8120724e-04,\n",
       "       -1.8604728e-03, -1.1709954e-03, -1.2153684e-03,  8.6866738e-04,\n",
       "        8.2126167e-04,  1.7623184e-03,  7.0361048e-04, -7.4108667e-04,\n",
       "       -1.3273213e-03,  7.5861812e-05, -3.3148227e-04,  1.7564795e-03,\n",
       "       -1.4802314e-03,  1.6595926e-03, -1.5687724e-03,  4.8686820e-04,\n",
       "       -1.8196056e-03,  1.8326968e-03, -5.9614389e-04,  1.2899605e-03,\n",
       "        3.6331522e-04, -1.9308069e-03, -6.9123413e-04,  1.8195040e-04,\n",
       "        1.2440837e-03, -1.8069833e-03,  5.9991376e-04, -1.4035134e-03,\n",
       "        1.2345905e-03, -1.5408666e-03, -7.6350057e-05, -1.5611282e-03,\n",
       "        1.4996030e-03, -5.5610039e-04,  1.1522162e-03, -1.1876266e-03,\n",
       "       -8.1062329e-04, -8.6433324e-04, -4.8463128e-04, -1.5247522e-03,\n",
       "        1.1150194e-03, -1.9607553e-04, -1.0879862e-03, -7.1886659e-04,\n",
       "        4.1763089e-04,  1.9494826e-03,  1.6162137e-03,  3.7323846e-04,\n",
       "       -1.0595061e-03, -8.8274933e-04,  1.1142285e-03,  1.1435547e-03,\n",
       "       -1.5431549e-05, -7.2019408e-05, -9.5633522e-04,  1.4315606e-03,\n",
       "       -1.6323359e-03, -1.8410479e-03, -4.7657313e-04,  1.2472398e-03,\n",
       "        1.5608910e-03, -1.3604020e-03,  1.2072979e-03,  9.9366857e-04,\n",
       "        1.4693006e-03,  9.5092296e-04, -9.0074888e-04, -4.7965930e-04,\n",
       "       -1.4272584e-03, -1.9251758e-03,  1.4910817e-03,  1.8298822e-03,\n",
       "        6.4557604e-04,  1.9294047e-03, -1.8402399e-03, -1.7777366e-03,\n",
       "        1.0719481e-03, -7.1941421e-04,  4.5598717e-05, -4.4779608e-04,\n",
       "       -9.9892123e-04, -1.2853818e-03, -1.3084959e-03,  1.9362001e-03,\n",
       "        1.2047798e-03,  6.8275514e-04,  1.3379711e-03,  1.0916698e-03,\n",
       "       -1.2939239e-03,  1.6098698e-03,  1.0749372e-03,  1.6998511e-03,\n",
       "       -3.3291453e-04,  1.4394384e-03, -3.3390324e-04,  1.5134108e-03,\n",
       "        9.9015771e-04, -1.8614968e-03, -1.2104397e-03, -9.4780803e-04,\n",
       "        1.4167279e-05, -1.0387457e-03, -1.4794432e-03, -7.6950318e-04,\n",
       "       -7.1238622e-04,  8.2536228e-04,  1.2098071e-03, -7.9606497e-04,\n",
       "        1.5263311e-03, -2.2281427e-05, -3.6875310e-04,  1.5982848e-03,\n",
       "        9.5469411e-05,  1.5570344e-03, -1.4903822e-03, -1.0800973e-03,\n",
       "       -1.7363030e-03, -1.0868154e-03, -1.4447302e-03,  1.4104603e-03,\n",
       "       -1.9155205e-03, -1.6461662e-03, -1.2737067e-03, -2.9142271e-04,\n",
       "       -1.6013519e-03,  3.1114626e-04,  1.7484894e-03, -1.5761707e-03,\n",
       "       -1.7991223e-03,  1.7863070e-04,  9.3258219e-05,  1.5048520e-04,\n",
       "       -1.9182748e-03,  1.3351813e-03, -1.6192116e-03,  4.7085108e-04,\n",
       "       -1.3503983e-03, -2.2102811e-04,  1.0025096e-03,  1.7308765e-03,\n",
       "       -7.8414415e-04,  3.9634365e-04,  1.3256241e-03,  8.2265004e-04,\n",
       "       -1.7778075e-04, -1.9462663e-04,  1.8059937e-03,  2.9951241e-04,\n",
       "        9.1223535e-04, -1.8860211e-03, -2.1927699e-04,  3.7075649e-04,\n",
       "        1.3598651e-03, -4.7808269e-04, -1.3442648e-03,  1.9357367e-03,\n",
       "        1.1825359e-03, -3.6250544e-04, -1.3662376e-03,  4.7861296e-04,\n",
       "       -1.4997765e-03,  2.0013237e-04,  6.5161870e-04,  7.2120829e-04,\n",
       "        1.5446513e-03, -1.8545642e-03, -1.3420341e-03,  1.7349124e-03,\n",
       "        8.1162388e-04,  8.7574986e-04, -1.3386257e-03,  3.9569102e-05,\n",
       "        9.1552455e-04, -1.4514702e-03, -8.2849350e-04,  1.0627406e-03,\n",
       "        6.0448004e-04, -9.6423901e-05, -1.8237225e-03, -1.7297594e-03,\n",
       "        9.3468209e-04,  5.5014645e-04,  1.0548159e-03, -1.2478367e-03,\n",
       "        1.1025663e-03, -9.6689968e-04, -6.7551399e-04, -1.3863093e-03,\n",
       "        1.0750222e-03, -1.1297781e-04,  1.4021064e-03,  5.7335244e-05,\n",
       "       -1.6473765e-03, -9.4266655e-04, -1.4435628e-04, -1.2554036e-03,\n",
       "        1.4668845e-03, -1.8644618e-03, -2.0354835e-04,  9.8538818e-04,\n",
       "       -1.5698180e-03, -1.7737807e-03,  1.6565139e-03,  1.5116795e-03,\n",
       "       -1.6066055e-03,  5.5337162e-04,  3.2818248e-04,  1.0633480e-03,\n",
       "        1.9320378e-03,  1.3682635e-03, -1.8668380e-03,  3.5974616e-04,\n",
       "       -1.7024893e-03,  1.2518030e-03, -1.5984022e-04,  8.8756997e-04,\n",
       "        1.1015204e-03, -1.6405995e-03,  1.2803155e-03,  1.3171132e-03,\n",
       "        1.6824636e-03,  8.6804153e-04, -1.0362328e-03,  4.0456560e-04],\n",
       "      dtype=float32)"
      ]
     },
     "execution_count": 9,
     "metadata": {},
     "output_type": "execute_result"
    }
   ],
   "source": [
    "model.infer_vector(get_opcode_from(\"/share/mal/APT/APT 28_pe/f9c0303d07800ed7cba1394cd326bbe8f49c7c5e0e062be59a9749f6c51c6e69.bytes\"))"
   ]
  },
  {
   "cell_type": "code",
   "execution_count": null,
   "id": "7c8bf7fe-4944-4549-a559-5e6be2637c63",
   "metadata": {},
   "outputs": [],
   "source": []
  }
 ],
 "metadata": {
  "kernelspec": {
   "display_name": "Python 3",
   "language": "python",
   "name": "python3"
  },
  "language_info": {
   "codemirror_mode": {
    "name": "ipython",
    "version": 3
   },
   "file_extension": ".py",
   "mimetype": "text/x-python",
   "name": "python",
   "nbconvert_exporter": "python",
   "pygments_lexer": "ipython3",
   "version": "3.6.9"
  }
 },
 "nbformat": 4,
 "nbformat_minor": 5
}
