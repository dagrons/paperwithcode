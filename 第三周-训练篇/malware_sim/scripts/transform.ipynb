{
 "cells": [
  {
   "cell_type": "code",
   "execution_count": 1,
   "id": "2728bd18-187d-49fb-9307-849abce9adcd",
   "metadata": {},
   "outputs": [],
   "source": [
    "import os\n",
    "import tempfile"
   ]
  },
  {
   "cell_type": "code",
   "execution_count": 1,
   "id": "30621aa8-6977-4506-adc6-414aff7f0311",
   "metadata": {},
   "outputs": [],
   "source": [
    "def get_opcode_from(bytes_path):\n",
    "    _, asm_path = tempfile.mkstemp(suffix=\".asm\")\n",
    "    cmd_str = \"\"\"ndisasm {} |\"\"\".format(bytes_path) + \"\"\"awk '{{$1=\"\";$2=\"\";gsub(/^\\s+|\\s*$/, \"\");print $1}}' > {}\"\"\" .format(asm_path)\n",
    "    os.system(cmd_str)\n",
    "    with open(asm_path) as f:\n",
    "        return f.readlines()"
   ]
  },
  {
   "cell_type": "code",
   "execution_count": null,
   "id": "2a8f521d-7d23-4fee-ab6a-05392f172018",
   "metadata": {},
   "outputs": [],
   "source": []
  }
 ],
 "metadata": {
  "kernelspec": {
   "display_name": "Python 3",
   "language": "python",
   "name": "python3"
  },
  "language_info": {
   "codemirror_mode": {
    "name": "ipython",
    "version": 3
   },
   "file_extension": ".py",
   "mimetype": "text/x-python",
   "name": "python",
   "nbconvert_exporter": "python",
   "pygments_lexer": "ipython3",
   "version": "3.6.9"
  }
 },
 "nbformat": 4,
 "nbformat_minor": 5
}
