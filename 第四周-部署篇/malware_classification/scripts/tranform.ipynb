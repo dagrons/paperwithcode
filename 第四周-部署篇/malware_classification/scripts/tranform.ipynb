{
 "cells": [
  {
   "cell_type": "markdown",
   "id": "e487e0ad-50d8-4a2d-844c-84baf558941d",
   "metadata": {},
   "source": [
    "## 将bytes文件转化为bmp图像"
   ]
  },
  {
   "cell_type": "code",
   "execution_count": 1,
   "id": "2251d5e0-b64e-414b-828b-b1e88c28726c",
   "metadata": {},
   "outputs": [],
   "source": [
    "import numpy as np\n",
    "from PIL import Image\n",
    "import pefile\n",
    "import math\n",
    "import os"
   ]
  },
  {
   "cell_type": "code",
   "execution_count": 2,
   "id": "6a04629c-3e8d-44de-a50c-f6a8f335784f",
   "metadata": {},
   "outputs": [],
   "source": [
    "bytes_path = \"/share/mal/kaggle/train/8va102hpJn5DVLe9i6Fq.bytes\"\n",
    "bmp_path = \"/root/test.bmp\""
   ]
  },
  {
   "cell_type": "code",
   "execution_count": 3,
   "id": "08ee3baa-ea8d-4216-8690-69656b915e84",
   "metadata": {},
   "outputs": [],
   "source": [
    "def bytes2bmp(bytes_path, bmp_path):\n",
    "    \"\"\"\n",
    "    针对kaggle的格式\n",
    "    \"\"\"\n",
    "    \n",
    "    blist = [] # byte list \n",
    "    with open(bytes_path) as f:\n",
    "        for line in f:\n",
    "            words = line.split(' ')\n",
    "            words = words[1:] # ignore the address column\n",
    "            for word in words:\n",
    "                if word not in [\"??\", \"??\\n\"]: # filter \"??\"\n",
    "                    blist.append(int(word, 16)) # conver hex string to int\n",
    "    width = int(math.sqrt(len(blist)))\n",
    "    if width == 0: # 如果bytes文件都是??，那就算了\n",
    "        return\n",
    "    b_mat = np.asarray(blist, dtype=np.uint8)\n",
    "    height = len(b_mat) // width\n",
    "    b_mat = b_mat[0:width*height]\n",
    "    b_mat = np.reshape(b_mat, (-1, width)) \n",
    "    img = Image.fromarray(b_mat)\n",
    "    img.save(bmp_path)\n",
    "    return img"
   ]
  },
  {
   "cell_type": "code",
   "execution_count": 12,
   "id": "8596ae70-33e3-431a-9427-2efbb6aa7077",
   "metadata": {},
   "outputs": [],
   "source": [
    "b_mat = bytes2bmp(bytes_path, bmp_path)"
   ]
  },
  {
   "cell_type": "code",
   "execution_count": null,
   "id": "41517933-5663-4542-bc8a-63608c1b7c96",
   "metadata": {},
   "outputs": [],
   "source": [
    "b_mat"
   ]
  },
  {
   "cell_type": "markdown",
   "id": "623e5a34-b67b-4c81-bc2c-f6847ce598df",
   "metadata": {},
   "source": [
    "## walk转换bytes文件到bmp文件\n",
    "大概每秒2/3个"
   ]
  },
  {
   "cell_type": "code",
   "execution_count": 4,
   "id": "2c7433d3-e674-42a2-b8a6-1c1c6e1de8e7",
   "metadata": {},
   "outputs": [],
   "source": [
    "path = \"/share/mal/tmp/train\""
   ]
  },
  {
   "cell_type": "code",
   "execution_count": 5,
   "id": "cc64050a-fec0-45f6-bb95-0ac8ec8b8647",
   "metadata": {},
   "outputs": [],
   "source": [
    "def walk_trans(path):\n",
    "    for root, _, fnames in os.walk(path):\n",
    "        for fname in fnames:\n",
    "            if fname.endswith('.bytes'):\n",
    "                bytes_path = os.path.join(root, fname)\n",
    "                bmp_path = os.path.join(root, fname.split('.')[-2] + '.bmp')\n",
    "                if not os.path.exists(bmp_path): # 判重\n",
    "                    bytes2bmp(bytes_path, bmp_path)"
   ]
  },
  {
   "cell_type": "code",
   "execution_count": 6,
   "id": "5d8f4fe4-9ab7-4b8d-9a02-4eae7dd7d0ee",
   "metadata": {},
   "outputs": [],
   "source": [
    "walk_trans(path)"
   ]
  },
  {
   "cell_type": "markdown",
   "id": "2fd0416e-85f5-49bb-9b9e-e8b5ef2cac65",
   "metadata": {},
   "source": [
    "## 将bmp转化为png"
   ]
  },
  {
   "cell_type": "code",
   "execution_count": null,
   "id": "d66b01ad-d6e7-473d-b21d-221665d79c8b",
   "metadata": {},
   "outputs": [],
   "source": [
    "png_path = \"/root/test.png\""
   ]
  },
  {
   "cell_type": "code",
   "execution_count": null,
   "id": "036bf766-f168-4d8a-a45e-d815b921bfac",
   "metadata": {},
   "outputs": [],
   "source": [
    "def bmp2png(bmp_path, png_path):\n",
    "    bmp = Image.open(bmp_path)\n",
    "    bmp_mat = np.asarray(bmp, dtype=np.uint8)\n",
    "    png_mat = np.reshape(bmp_mat, (bmp_mat.shape[0], bmp_mat.shape[1], 1))\n",
    "    png_mat = np.repeat(png_mat, 3, axis=2) # 在第2个维度重复3遍即可\n",
    "    png = Image.fromarray(png_mat, 'RGB')\n",
    "    png.save(png_path)\n",
    "    return png"
   ]
  },
  {
   "cell_type": "code",
   "execution_count": null,
   "id": "ad180713-e903-4f1b-ad40-6c3c523d685f",
   "metadata": {},
   "outputs": [],
   "source": [
    "png = bmp2png(bmp_path, png_path)"
   ]
  },
  {
   "cell_type": "code",
   "execution_count": null,
   "id": "6f066a40-c918-490b-afda-1c41a587931e",
   "metadata": {},
   "outputs": [],
   "source": [
    "png"
   ]
  },
  {
   "cell_type": "markdown",
   "id": "fd376c3b-e369-4597-9209-f7ed51b8a6fe",
   "metadata": {},
   "source": [
    "## 将pe转化为bmp"
   ]
  },
  {
   "cell_type": "code",
   "execution_count": null,
   "id": "09996ed8-aac2-432a-9cad-98167ef55f02",
   "metadata": {},
   "outputs": [],
   "source": [
    "pe_path = \"/share/mal/tmp/da884a0416425450f8362811d5bd453ad559ef41ad343f354a71e469be72e55a\"\n",
    "bmp_path = \"/share/mal/tmp/da884a0416425450f8362811d5bd453ad559ef41ad343f354a71e469be72e55a.bmp\""
   ]
  },
  {
   "cell_type": "code",
   "execution_count": null,
   "id": "34137ee1-1d10-4786-8db0-99ad20907ab3",
   "metadata": {},
   "outputs": [],
   "source": [
    "def pe2bmp(pe_path, bmp_path):\n",
    "    pe = pefile.PE(pe_path)\n",
    "    selected_sections = [sec for sec in pe.sections if str(sec.Name, encoding='utf-8').strip('\\x00') in ['.text', '.data', '.rdata']]\n",
    "    selected_bytes = []\n",
    "    last_addr = selected_sections[0].VirtualAddress\n",
    "    for sec in selected_sections:\n",
    "        if last_addr < sec.VirtualAddress:\n",
    "            selected_bytes.extend([0] * (sec.VirtualAddress - last_addr))\n",
    "            last_addr = sec.VirtualAddress\n",
    "        selected_bytes.extend(sec.get_data())\n",
    "        last_addr += sec.SizeOfRawData\n",
    "    width = int(math.sqrt(len(selected_bytes)))\n",
    "    b_mat = np.asarray(selected_bytes, dtype=np.uint8)\n",
    "    b_mat = b_mat[0:len(b_mat)//width*width]\n",
    "    b_mat= np.reshape(b_mat, (-1, width))\n",
    "    img = Image.fromarray(b_mat)\n",
    "    img.save(bmp_path)\n",
    "    return img"
   ]
  },
  {
   "cell_type": "code",
   "execution_count": null,
   "id": "c3cdcb65-e255-412b-9992-3a925bbdac10",
   "metadata": {},
   "outputs": [],
   "source": [
    "bmp = pe2bmp(pe_path, bmp_path)"
   ]
  },
  {
   "cell_type": "code",
   "execution_count": null,
   "id": "169c3ab9-08cc-42a4-837e-8b9e887e8d14",
   "metadata": {},
   "outputs": [],
   "source": [
    "bmp"
   ]
  },
  {
   "cell_type": "markdown",
   "id": "b28671c3-e629-4794-881a-9b5155a11130",
   "metadata": {},
   "source": [
    "## 将asm文件只保留opcode部分\n",
    "针对kaggle格式/IDA pro格式"
   ]
  },
  {
   "cell_type": "code",
   "execution_count": null,
   "id": "00aad460-840d-4a73-9c46-34fd372e18a7",
   "metadata": {},
   "outputs": [],
   "source": []
  }
 ],
 "metadata": {
  "kernelspec": {
   "display_name": "Python 3",
   "language": "python",
   "name": "python3"
  },
  "language_info": {
   "codemirror_mode": {
    "name": "ipython",
    "version": 3
   },
   "file_extension": ".py",
   "mimetype": "text/x-python",
   "name": "python",
   "nbconvert_exporter": "python",
   "pygments_lexer": "ipython3",
   "version": "3.6.9"
  },
  "toc-autonumbering": false,
  "toc-showcode": false,
  "toc-showmarkdowntxt": false,
  "toc-showtags": false
 },
 "nbformat": 4,
 "nbformat_minor": 5
}
