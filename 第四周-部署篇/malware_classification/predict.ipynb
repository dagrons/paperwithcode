{
 "cells": [
  {
   "cell_type": "code",
   "execution_count": 46,
   "id": "afe9e1e8",
   "metadata": {},
   "outputs": [],
   "source": [
    "import torch\n",
    "import torch.nn.functional as F\n",
    "from PIL import Image\n",
    "import numpy as np\n",
    "import tempfile\n",
    "from resnet import * "
   ]
  },
  {
   "cell_type": "code",
   "execution_count": 47,
   "id": "deb5f007-e098-4dbd-94c0-d6e3b506ff48",
   "metadata": {},
   "outputs": [],
   "source": [
    "import os\n",
    "import sys\n",
    "module_path = os.path.abspath(os.path.join('.'))\n",
    "if module_path not in sys.path:\n",
    "    sys.path.append(module_path)"
   ]
  },
  {
   "cell_type": "code",
   "execution_count": 48,
   "id": "bdd4e408-efe7-42ab-bb3c-4b1417e5d14a",
   "metadata": {},
   "outputs": [],
   "source": [
    "from scripts.tranform import * "
   ]
  },
  {
   "cell_type": "code",
   "execution_count": null,
   "id": "f79c532e",
   "metadata": {},
   "outputs": [],
   "source": [
    "# 加载模型字典\n",
    "model_state_dict_path = \"/root/paperwithcode/第三周-训练篇/malware_classification/trained_models/malware_classification%resnet34%best.pt\" # 要使用的模型字典地址\n",
    "model_state_dict = torch.load(model_state_dict_path)\n",
    "model = ResNet(num_block=[3, 4, 6, 3]).cuda()\n",
    "model.load_state_dict(model_state_dict)\n",
    "model.eval()"
   ]
  },
  {
   "cell_type": "code",
   "execution_count": 71,
   "id": "2da42be1",
   "metadata": {},
   "outputs": [],
   "source": [
    "def predict(data_or_path, mode='bmp'): # support bmp, pe, bytes, raw types\n",
    "    try: \n",
    "        if mode == \"bmp\":\n",
    "            img = Image.open(data_or_path)\n",
    "            img = img.resize((64, 64))\n",
    "            img_mat = np.asarray(img, dtype=np.float32)\n",
    "            img_mat = np.reshape(img_mat, (1, 64, 64))\n",
    "            img_mat = np.repeat(img_mat, 3, axis=0)\n",
    "            img_mat = torch.from_numpy(img_mat)\n",
    "            img_mat = torch.unsqueeze(img_mat, axis=0).cuda()\n",
    "            y_pred = model(img_mat)\n",
    "            return [t.item() for t in F.softmax(y_pred, 1)[0]]\n",
    "        if mode == \"pe\":\n",
    "            _, bmp_path = tempfile.mkstemp(suffix='.bmp')\n",
    "            pe2bmp(data_or_path, bmp_path)\n",
    "            return predict(bmp_path, mode='bmp')\n",
    "        if mode == \"bytes\":\n",
    "            _, bmp_path = tempfile.mkstemp(suffix='.bmp')\n",
    "            bytes2bmp(data_or_path, bmp_path)\n",
    "            return predict(bmp_path, mode='bmp')\n",
    "        else: # mode == \"raw torch tensor 3x64x64\"\n",
    "            y_pred = model(data_or_path)\n",
    "            return [t.item() for t in F.softmax(y_pred, 1)[0]]\n",
    "    except:\n",
    "        pass\n",
    "    return [1.1, 1.1, 1.1, 1.1, 1.1, 1.1, 1.1, 1.1, 1.1] # 用于表示缺省值，上述代码中，进行格式转换时可能会出现异常，所以缺省值是必要的"
   ]
  },
  {
   "cell_type": "code",
   "execution_count": 72,
   "id": "ed502a4a",
   "metadata": {},
   "outputs": [
    {
     "data": {
      "text/plain": [
       "[0.6112348437309265,\n",
       " 0.1269327700138092,\n",
       " 8.482926205033436e-05,\n",
       " 0.009858082048594952,\n",
       " 0.006743908394128084,\n",
       " 0.0421990230679512,\n",
       " 0.0006651264848187566,\n",
       " 0.19975799322128296,\n",
       " 0.002523412462323904]"
      ]
     },
     "execution_count": 72,
     "metadata": {},
     "output_type": "execute_result"
    }
   ],
   "source": [
    "predict(\"/share/mal/tmp/d5687b5c5cec11c851e84a1d40af3ef52607575487a70224f63458c24481076c\",  mode='pe')"
   ]
  },
  {
   "cell_type": "code",
   "execution_count": null,
   "id": "32c46b5c-a344-4660-b8fc-457be1702583",
   "metadata": {},
   "outputs": [],
   "source": []
  }
 ],
 "metadata": {
  "kernelspec": {
   "display_name": "Python 3",
   "language": "python",
   "name": "python3"
  },
  "language_info": {
   "codemirror_mode": {
    "name": "ipython",
    "version": 3
   },
   "file_extension": ".py",
   "mimetype": "text/x-python",
   "name": "python",
   "nbconvert_exporter": "python",
   "pygments_lexer": "ipython3",
   "version": "3.6.9"
  }
 },
 "nbformat": 4,
 "nbformat_minor": 5
}
