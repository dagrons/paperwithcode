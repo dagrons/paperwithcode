{
 "cells": [
  {
   "cell_type": "code",
   "execution_count": 1,
   "id": "afe9e1e8",
   "metadata": {},
   "outputs": [],
   "source": [
    "import torch\n",
    "from PIL import Image\n",
    "import numpy as np\n",
    "\n",
    "from resnet import * "
   ]
  },
  {
   "cell_type": "code",
   "execution_count": null,
   "id": "f79c532e",
   "metadata": {},
   "outputs": [],
   "source": [
    "# 加载模型字典\n",
    "model_state_dict_path = \"/root/paperwithcode/第三周-训练篇/malware_dpcnn/trained_models/malware_classification%resnet34%best.pt\" # 要使用的模型字典地址\n",
    "model_state_dict = torch.load(model_state_dict_path)\n",
    "model = ResNet(num_block=[3, 4, 6, 3]).cuda()\n",
    "model.load_state_dict(model_state_dict)\n",
    "model.eval()"
   ]
  },
  {
   "cell_type": "code",
   "execution_count": 3,
   "id": "2da42be1",
   "metadata": {},
   "outputs": [],
   "source": [
    "def predict(img_path):\n",
    "    img = Image.open(img_path)\n",
    "    img = img.resize((64, 64))\n",
    "    img_mat = np.asarray(img, dtype=np.float32)\n",
    "    img_mat = np.reshape(img_mat, (1, 64, 64))\n",
    "    img_mat = np.repeat(img_mat, 3, axis=0)\n",
    "    img_mat = torch.from_numpy(img_mat)\n",
    "    img_mat = torch.unsqueeze(img_mat, axis=0).cuda()\n",
    "    y_pred = model(img_mat)\n",
    "    prediction = torch.argmax(y_pred, 1)\n",
    "    return prediction"
   ]
  },
  {
   "cell_type": "code",
   "execution_count": 6,
   "id": "ed502a4a",
   "metadata": {},
   "outputs": [
    {
     "data": {
      "text/plain": [
       "tensor([7], device='cuda:0')"
      ]
     },
     "execution_count": 6,
     "metadata": {},
     "output_type": "execute_result"
    }
   ],
   "source": [
    "predict(\"/share/mal/malware/data/test/8/GlUnrYxyOb5XQhFcf4Su.png\")"
   ]
  },
  {
   "cell_type": "code",
   "execution_count": null,
   "id": "6412ef44",
   "metadata": {},
   "outputs": [],
   "source": []
  }
 ],
 "metadata": {
  "kernelspec": {
   "display_name": "Python 3",
   "language": "python",
   "name": "python3"
  },
  "language_info": {
   "codemirror_mode": {
    "name": "ipython",
    "version": 3
   },
   "file_extension": ".py",
   "mimetype": "text/x-python",
   "name": "python",
   "nbconvert_exporter": "python",
   "pygments_lexer": "ipython3",
   "version": "3.6.9"
  }
 },
 "nbformat": 4,
 "nbformat_minor": 5
}
