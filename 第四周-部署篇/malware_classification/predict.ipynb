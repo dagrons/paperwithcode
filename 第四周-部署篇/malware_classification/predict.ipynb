{
 "cells": [
  {
   "cell_type": "code",
   "execution_count": 8,
   "id": "e973594c",
   "metadata": {},
   "outputs": [],
   "source": [
    "import torch\n",
    "\n",
    "from resnet import * "
   ]
  },
  {
   "cell_type": "code",
   "execution_count": 10,
   "id": "372c8203",
   "metadata": {},
   "outputs": [],
   "source": [
    "# 加载模型字典\n",
    "model_state_dict_path = \"/root/paperwithcode/第三周-训练篇/malware_dpcnn/trained_models/malware_classification%resnet34%best.pt\" # 要使用的模型字典地址\n",
    "model_state_dict = torch.load(model_state_dict_path)\n",
    "model = ResNet(num_block=[3, 4, 6, 3]).load_state_dict(model_state_dict)"
   ]
  },
  {
   "cell_type": "code",
   "execution_count": 11,
   "id": "4f7a10d7",
   "metadata": {},
   "outputs": [],
   "source": [
    "def predict(x):\n",
    "    y_pred = model(x)\n",
    "    prediction = torch.argmax(y_pred, 1)\n",
    "    return prediction"
   ]
  },
  {
   "cell_type": "code",
   "execution_count": null,
   "id": "4afbc564",
   "metadata": {},
   "outputs": [],
   "source": []
  }
 ],
 "metadata": {
  "kernelspec": {
   "display_name": "Python 3",
   "language": "python",
   "name": "python3"
  },
  "language_info": {
   "codemirror_mode": {
    "name": "ipython",
    "version": 3
   },
   "file_extension": ".py",
   "mimetype": "text/x-python",
   "name": "python",
   "nbconvert_exporter": "python",
   "pygments_lexer": "ipython3",
   "version": "3.6.9"
  }
 },
 "nbformat": 4,
 "nbformat_minor": 5
}
