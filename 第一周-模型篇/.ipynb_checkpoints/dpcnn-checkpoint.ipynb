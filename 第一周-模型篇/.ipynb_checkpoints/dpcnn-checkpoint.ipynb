{
 "cells": [
  {
   "cell_type": "code",
   "execution_count": 1,
   "id": "70f34f94",
   "metadata": {},
   "outputs": [],
   "source": [
    "import torch\n",
    "import torch.nn as nn\n",
    "from torchsummary import summary"
   ]
  },
  {
   "cell_type": "markdown",
   "id": "898baf61",
   "metadata": {},
   "source": [
    "参数解释：\n",
    "1. output_channels决定了filter的个数，每个filter会产生一个channel\n",
    "2. kernel_size决定了filter的形状\n",
    "3. 如果要使input和ouput的大小一致，则kernel_size为奇数，且padding=kernel_size/2(下取整)，例如：kernel_size=3时，padding=kernel_size/2=1\n",
    "4. conv3的目的是为了让identity的channels和x的channels保持一致\n",
    "\n",
    "模型来源：https://ai.tencent.com/ailab/media/publications/ACL3-Brady.pdf"
   ]
  },
  {
   "cell_type": "code",
   "execution_count": 2,
   "id": "537d5701",
   "metadata": {},
   "outputs": [],
   "source": [
    "class BasicBlock(nn.Module):\n",
    "    def __init__(self, input_channels, output_channels):\n",
    "        super().__init__()\n",
    "        \n",
    "        self.relu = nn.ReLU()\n",
    "        self.conv1 = nn.Conv1d(in_channels=in_channels, output_channels=output_channels, kernel_size=3, padding=1) \n",
    "        self.conv2 = nn.Conv1d(in_channels=output_channels, output_channels=output_channesl, kernel_size=3, padding=1)\n",
    "        self.conv3 = nn.Conv1d(in_channels=in_channels, output_channels=output_channels, kernel_size=1)\n",
    "        \n",
    "    def forward(self, x):\n",
    "        identity = x\n",
    "        \n",
    "        output = self.relu(x)\n",
    "        output = self.conv1(output)\n",
    "        output = self.relu(output)\n",
    "        output = self.conv2(output)\n",
    "        \n",
    "        if output.shape != identity.shape:\n",
    "            identity = self.conv3(identity)\n",
    "        \n",
    "        return nn.ReLU()(output + identity)\n",
    "    \n",
    "class DPCNN(nn.Module):\n",
    "    def __init__(self, input_size):\n",
    "        super().__init__()\n",
    "        \n",
    "        \n",
    "        "
   ]
  }
 ],
 "metadata": {
  "kernelspec": {
   "display_name": "Python 3",
   "language": "python",
   "name": "python3"
  },
  "language_info": {
   "codemirror_mode": {
    "name": "ipython",
    "version": 3
   },
   "file_extension": ".py",
   "mimetype": "text/x-python",
   "name": "python",
   "nbconvert_exporter": "python",
   "pygments_lexer": "ipython3",
   "version": "3.6.9"
  }
 },
 "nbformat": 4,
 "nbformat_minor": 5
}
